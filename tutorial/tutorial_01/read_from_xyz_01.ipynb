{
 "cells": [
  {
   "cell_type": "code",
   "execution_count": 1,
   "metadata": {},
   "outputs": [],
   "source": [
    "import re\n",
    "from cctk import XYZFile, GaussianFile, OrcaFile"
   ]
  },
  {
   "cell_type": "code",
   "execution_count": 2,
   "metadata": {},
   "outputs": [],
   "source": [
    "filename = \"./tutorial1.xyz\"\n",
    "file = XYZFile.read_file(filename)\n",
    "newfile = filename.rsplit('/',1)[-1]\n",
    "newfile = re.sub(r\"xyz$\", \"gjf\", newfile)\n",
    "\n",
    "molecule = file.get_molecule()\n",
    "\n",
    "GaussianFile.write_molecule_to_file(\n",
    "    newfile,\n",
    "    molecule,\n",
    "    \"#p opt freq=noraman b3lyp/6-31g(d) empiricaldispersion=gd3bj\",\n",
    ")\n",
    "\n",
    "# to write an orca input simultaneously we could use the block below\n",
    "newfile = re.sub(r\"gjf$\", \"inp\", newfile)\n",
    "OrcaFile.write_molecule_to_file(\n",
    "    newfile,\n",
    "    molecule,\n",
    "    \"! opt freq b3lyp/6-31g(d) d3bj\",\n",
    ")"
   ]
  },
  {
   "cell_type": "code",
   "execution_count": null,
   "metadata": {},
   "outputs": [],
   "source": []
  }
 ],
 "metadata": {
  "kernelspec": {
   "display_name": "Python 3.10.4 ('python': conda)",
   "language": "python",
   "name": "python3"
  },
  "language_info": {
   "codemirror_mode": {
    "name": "ipython",
    "version": 3
   },
   "file_extension": ".py",
   "mimetype": "text/x-python",
   "name": "python",
   "nbconvert_exporter": "python",
   "pygments_lexer": "ipython3",
   "version": "3.10.9"
  },
  "orig_nbformat": 4,
  "vscode": {
   "interpreter": {
    "hash": "53903015010c1260f3233acce92753d14f5f785b6e48db54a5c3eb16051579f3"
   }
  }
 },
 "nbformat": 4,
 "nbformat_minor": 2
}
